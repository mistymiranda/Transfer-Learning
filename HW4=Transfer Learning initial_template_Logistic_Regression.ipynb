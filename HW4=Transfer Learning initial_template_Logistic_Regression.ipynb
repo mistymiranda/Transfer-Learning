{
  "nbformat": 4,
  "nbformat_minor": 0,
  "metadata": {
    "colab": {
      "name": "Huan=L9=2330stock Linear Regression.ipynb",
      "provenance": []
    },
    "kernelspec": {
      "name": "python3",
      "display_name": "Python 3"
    },
    "language_info": {
      "name": "python"
    }
  },
  "cells": [
    {
      "cell_type": "markdown",
      "metadata": {
        "id": "i_yVVNxxiguo"
      },
      "source": [
        "# Topic : Lecture 9 Linear regression (2330 stock)\n",
        "<img src=\"https://www.tribloom.com/wp-content/uploads/2019/08/CRISP-DM_Process_Diagram-768x769.png\" height=300>\n",
        "\n",
        "Follow the CRSIP-DM method\n",
        "1. Step 1: Import library, import data\n",
        "2. Step 2: Pre-processing (missing data, categorical type, normalization, format transform, data augmentation)\n",
        "3. Step 3: Build ML Model\n",
        "4. Step 4: Evaluate Model\n",
        "5. Step 5: Deploy (Prediction)\n"
      ]
    },
    {
      "cell_type": "markdown",
      "metadata": {
        "id": "2GCRWZkZjN9l"
      },
      "source": [
        "## Step 1: Load data (also import library)"
      ]
    },
    {
      "cell_type": "code",
      "metadata": {
        "colab": {
          "base_uri": "https://localhost:8080/"
        },
        "id": "etxMQrAGewis",
        "outputId": "89a7c571-8557-4b10-9f37-78a79b9cf799"
      },
      "source": [
        "# import library\n",
        "import numpy as np\n",
        "import pandas as pd\n",
        "import matplotlib.pyplot as plt\n",
        "\n",
        "#import data\n",
        "data=pd.read_csv(\"2330.csv\")\n",
        "\n",
        "# test=pd.read_csv(\"predict.csv\")\n",
        "print(data.tail())\n"
      ],
      "execution_count": 4,
      "outputs": [
        {
          "output_type": "stream",
          "name": "stdout",
          "text": [
            "          Date    x   x1   x2   x3   x4   x5\n",
            "237  2022/4/15  562  573  573  557  558  573\n",
            "238  2022/4/18  561  562  573  573  557  562\n",
            "239  2022/4/19  565  561  562  573  573  561\n",
            "240  2022/4/20  570  565  561  562  573  565\n",
            "241  2022/4/21    0  570  565  561  562  570\n"
          ]
        }
      ]
    },
    {
      "cell_type": "code",
      "metadata": {
        "id": "ACDISJY0gJR3",
        "colab": {
          "base_uri": "https://localhost:8080/",
          "height": 282
        },
        "outputId": "1b61fc89-9c68-4dab-8abb-237c6912c267"
      },
      "source": [
        "plt.plot(data.x)\n"
      ],
      "execution_count": 3,
      "outputs": [
        {
          "output_type": "execute_result",
          "data": {
            "text/plain": [
              "[<matplotlib.lines.Line2D at 0x7f5fecf19c10>]"
            ]
          },
          "metadata": {},
          "execution_count": 3
        },
        {
          "output_type": "display_data",
          "data": {
            "text/plain": [
              "<Figure size 432x288 with 1 Axes>"
            ],
            "image/png": "[encoded data removed]"
          },
          "metadata": {
            "needs_background": "light"
          }
        }
      ]
    },
    {
      "cell_type": "code",
      "metadata": {
        "id": "h_q7dhHikvqg",
        "colab": {
          "base_uri": "https://localhost:8080/",
          "height": 283
        },
        "outputId": "1045551b-1912-40c6-80d9-43fd0018fd7f"
      },
      "source": [
        "# plt.scatter(data.x,data.y)"
      ],
      "execution_count": null,
      "outputs": [
        {
          "output_type": "execute_result",
          "data": {
            "text/plain": [
              "<matplotlib.collections.PathCollection at 0x7f48e1db6c90>"
            ]
          },
          "metadata": {},
          "execution_count": 55
        },
        {
          "output_type": "display_data",
          "data": {
            "text/plain": [
              "<Figure size 432x288 with 1 Axes>"
            ],
            "image/png": "[encoded data removed]"
          },
          "metadata": {
            "needs_background": "light"
          }
        }
      ]
    },
    {
      "cell_type": "markdown",
      "metadata": {
        "id": "IZeClHb-jUhh"
      },
      "source": [
        "# Step 2: Pre-process X, Y\n",
        "* format transform (轉換成numpy format)\n",
        "* missing data (imputation)差補\n",
        "* category data transform \n",
        "* data augmentation\n",
        "* normalization\n"
      ]
    },
    {
      "cell_type": "code",
      "source": [
        "type(data)\n",
        "data.columns"
      ],
      "metadata": {
        "colab": {
          "base_uri": "https://localhost:8080/"
        },
        "id": "w09pPvOV5z9d",
        "outputId": "dc69ca57-c733-4343-ae49-d9783358ac82"
      },
      "execution_count": 5,
      "outputs": [
        {
          "output_type": "execute_result",
          "data": {
            "text/plain": [
              "Index(['Date', 'x', 'x1', 'x2', 'x3', 'x4', 'x5'], dtype='object')"
            ]
          },
          "metadata": {},
          "execution_count": 5
        }
      ]
    },
    {
      "cell_type": "code",
      "metadata": {
        "colab": {
          "base_uri": "https://localhost:8080/"
        },
        "id": "uFbekwkvjSv7",
        "outputId": "6d28cb03-a194-49c5-a798-1507948e8c1e"
      },
      "source": [
        "data.columns\n",
        "X=data.iloc[:-1,2:7].values.reshape(-1,5)\n",
        "Y=data.iloc[:-1,1].values.reshape(-1,1)\n",
        "testX=data.iloc[-1,2:7].values.reshape(-1,5)\n",
        "\n",
        "\n",
        "print(type(X),X.shape)\n",
        "# plt.scatter(X,Y)\n",
        "print(type(Y),Y.shape)\n",
        "print(type(testX),testX.shape)"
      ],
      "execution_count": 9,
      "outputs": [
        {
          "output_type": "stream",
          "name": "stdout",
          "text": [
            "<class 'numpy.ndarray'> (241, 5)\n",
            "<class 'numpy.ndarray'> (241, 1)\n",
            "<class 'numpy.ndarray'> (1, 5)\n"
          ]
        }
      ]
    },
    {
      "cell_type": "markdown",
      "metadata": {
        "id": "9QPyEdSBjayd"
      },
      "source": [
        "# Step 3: Build Model for training"
      ]
    },
    {
      "cell_type": "code",
      "metadata": {
        "colab": {
          "base_uri": "https://localhost:8080/"
        },
        "id": "LerAPU8FoPqI",
        "outputId": "167172d8-539c-42e8-988c-2cb6326ff7cc"
      },
      "source": [
        "from sklearn.linear_model import LinearRegression as LR\n",
        "model=LR()  # constructor\n",
        "model.fit(X,Y) # training\n",
        "\n",
        "print(model) \n",
        "print(\"a*=\",model.coef_[0],\"b*=\",model.intercept_ )\n"
      ],
      "execution_count": 10,
      "outputs": [
        {
          "output_type": "stream",
          "name": "stdout",
          "text": [
            "LinearRegression()\n",
            "a*= [ 0.52344822 -0.16537456 -0.00053876  0.06366907  0.52344822] b*= [32.95420763]\n"
          ]
        }
      ]
    },
    {
      "cell_type": "code",
      "metadata": {
        "colab": {
          "base_uri": "https://localhost:8080/"
        },
        "id": "LF3joWIVU_ZU",
        "outputId": "25710d5e-98c4-40a5-a7e3-d3c48a99e6ba"
      },
      "source": [
        "print(\"stock price prediction y=\",model.predict(testX))\n",
        "# plt.scatter(X,Y)\n",
        "# mx=np.array([0,1030])\n",
        "# my=model.coef_[0]*mx+model.intercept_\n",
        "# print(mx)\n",
        "# print(my)\n",
        "# plt.plot(mx,my,'r')"
      ],
      "execution_count": 13,
      "outputs": [
        {
          "output_type": "stream",
          "name": "stdout",
          "text": [
            "stock price prediction y= [[571.72832273]]\n"
          ]
        }
      ]
    },
    {
      "cell_type": "markdown",
      "metadata": {
        "id": "k9iQ2Zoljhv3"
      },
      "source": [
        "# Step 4: Evalute Model"
      ]
    },
    {
      "cell_type": "code",
      "metadata": {
        "colab": {
          "base_uri": "https://localhost:8080/"
        },
        "id": "cUp3s-j9podg",
        "outputId": "93a35c4d-60ab-4875-88eb-ddf9d4b1dda7"
      },
      "source": [
        "from sklearn.metrics import r2_score as R2\n",
        "from sklearn.metrics import mean_squared_error as MSE\n",
        "yPre=model.predict(X)\n",
        "print(\"MSE=\",MSE(Y,yPre))\n",
        "print(\"R2=\",R2(Y,yPre))\n",
        "\n",
        "# # save model\n",
        "# import pickle\n",
        "# with open('model.pickle', 'wb') as f:\n",
        "#     pickle.dump(model, f)\n",
        "\n",
        "# # no need to perform model training in step 2\n",
        "# with open('model.pickle', 'rb') as f:\n",
        "#     model2 = pickle.load(f)\n",
        "yPre=model.predict(testX)\n"
      ],
      "execution_count": null,
      "outputs": [
        {
          "output_type": "stream",
          "name": "stdout",
          "text": [
            "MSE= 1.7621439667528923e-25\n",
            "R2= 1.0\n"
          ]
        }
      ]
    },
    {
      "cell_type": "markdown",
      "metadata": {
        "id": "Y4EWHwjBjlA_"
      },
      "source": [
        "# Step 5: Deploy Model to predict new value"
      ]
    },
    {
      "cell_type": "code",
      "metadata": {
        "colab": {
          "base_uri": "https://localhost:8080/",
          "height": 206
        },
        "id": "FhwEmIxkk-Z5",
        "outputId": "39824c43-bc9e-40b9-e87b-47ed98b8273e"
      },
      "source": [
        "test['y']=yPre\n",
        "data.head()"
      ],
      "execution_count": null,
      "outputs": [
        {
          "output_type": "execute_result",
          "data": {
            "text/plain": [
              "     x     y\n",
              "0  225  2350\n",
              "1  626  6360\n",
              "2  425  4350\n",
              "3  354  3640\n",
              "4  228  2380"
            ],
            "text/html": [
              "\n",
              "  <div id=\"df-5ea5912a-d2a2-4a0c-bf9d-abf4dcfdeedd\">\n",
              "    <div class=\"colab-df-container\">\n",
              "      <div>\n",
              "<style scoped>\n",
              "    .dataframe tbody tr th:only-of-type {\n",
              "        vertical-align: middle;\n",
              "    }\n",
              "\n",
              "    .dataframe tbody tr th {\n",
              "        vertical-align: top;\n",
              "    }\n",
              "\n",
              "    .dataframe thead th {\n",
              "        text-align: right;\n",
              "    }\n",
              "</style>\n",
              "<table border=\"1\" class=\"dataframe\">\n",
              "  <thead>\n",
              "    <tr style=\"text-align: right;\">\n",
              "      <th></th>\n",
              "      <th>x</th>\n",
              "      <th>y</th>\n",
              "    </tr>\n",
              "  </thead>\n",
              "  <tbody>\n",
              "    <tr>\n",
              "      <th>0</th>\n",
              "      <td>225</td>\n",
              "      <td>2350</td>\n",
              "    </tr>\n",
              "    <tr>\n",
              "      <th>1</th>\n",
              "      <td>626</td>\n",
              "      <td>6360</td>\n",
              "    </tr>\n",
              "    <tr>\n",
              "      <th>2</th>\n",
              "      <td>425</td>\n",
              "      <td>4350</td>\n",
              "    </tr>\n",
              "    <tr>\n",
              "      <th>3</th>\n",
              "      <td>354</td>\n",
              "      <td>3640</td>\n",
              "    </tr>\n",
              "    <tr>\n",
              "      <th>4</th>\n",
              "      <td>228</td>\n",
              "      <td>2380</td>\n",
              "    </tr>\n",
              "  </tbody>\n",
              "</table>\n",
              "</div>\n",
              "      <button class=\"colab-df-convert\" onclick=\"convertToInteractive('df-5ea5912a-d2a2-4a0c-bf9d-abf4dcfdeedd')\"\n",
              "              title=\"Convert this dataframe to an interactive table.\"\n",
              "              style=\"display:none;\">\n",
              "        \n",
              "  <svg xmlns=\"http://www.w3.org/2000/svg\" height=\"24px\"viewBox=\"0 0 24 24\"\n",
              "       width=\"24px\">\n",
              "    <path d=\"M0 0h24v24H0V0z\" fill=\"none\"/>\n",
              "    <path d=\"M18.56 5.44l.94 2.06.94-2.06 2.06-.94-2.06-.94-.94-2.06-.94 2.06-2.06.94zm-11 1L8.5 8.5l.94-2.06 2.06-.94-2.06-.94L8.5 2.5l-.94 2.06-2.06.94zm10 10l.94 2.06.94-2.06 2.06-.94-2.06-.94-.94-2.06-.94 2.06-2.06.94z\"/><path d=\"M17.41 7.96l-1.37-1.37c-.4-.4-.92-.59-1.43-.59-.52 0-1.04.2-1.43.59L10.3 9.45l-7.72 7.72c-.78.78-.78 2.05 0 2.83L4 21.41c.39.39.9.59 1.41.59.51 0 1.02-.2 1.41-.59l7.78-7.78 2.81-2.81c.8-.78.8-2.07 0-2.86zM5.41 20L4 18.59l7.72-7.72 1.47 1.35L5.41 20z\"/>\n",
              "  </svg>\n",
              "      </button>\n",
              "      \n",
              "  <style>\n",
              "    .colab-df-container {\n",
              "      display:flex;\n",
              "      flex-wrap:wrap;\n",
              "      gap: 12px;\n",
              "    }\n",
              "\n",
              "    .colab-df-convert {\n",
              "      background-color: #E8F0FE;\n",
              "      border: none;\n",
              "      border-radius: 50%;\n",
              "      cursor: pointer;\n",
              "      display: none;\n",
              "      fill: #1967D2;\n",
              "      height: 32px;\n",
              "      padding: 0 0 0 0;\n",
              "      width: 32px;\n",
              "    }\n",
              "\n",
              "    .colab-df-convert:hover {\n",
              "      background-color: #E2EBFA;\n",
              "      box-shadow: 0px 1px 2px rgba(60, 64, 67, 0.3), 0px 1px 3px 1px rgba(60, 64, 67, 0.15);\n",
              "      fill: #174EA6;\n",
              "    }\n",
              "\n",
              "    [theme=dark] .colab-df-convert {\n",
              "      background-color: #3B4455;\n",
              "      fill: #D2E3FC;\n",
              "    }\n",
              "\n",
              "    [theme=dark] .colab-df-convert:hover {\n",
              "      background-color: #434B5C;\n",
              "      box-shadow: 0px 1px 3px 1px rgba(0, 0, 0, 0.15);\n",
              "      filter: drop-shadow(0px 1px 2px rgba(0, 0, 0, 0.3));\n",
              "      fill: #FFFFFF;\n",
              "    }\n",
              "  </style>\n",
              "\n",
              "      <script>\n",
              "        const buttonEl =\n",
              "          document.querySelector('#df-5ea5912a-d2a2-4a0c-bf9d-abf4dcfdeedd button.colab-df-convert');\n",
              "        buttonEl.style.display =\n",
              "          google.colab.kernel.accessAllowed ? 'block' : 'none';\n",
              "\n",
              "        async function convertToInteractive(key) {\n",
              "          const element = document.querySelector('#df-5ea5912a-d2a2-4a0c-bf9d-abf4dcfdeedd');\n",
              "          const dataTable =\n",
              "            await google.colab.kernel.invokeFunction('convertToInteractive',\n",
              "                                                     [key], {});\n",
              "          if (!dataTable) return;\n",
              "\n",
              "          const docLinkHtml = 'Like what you see? Visit the ' +\n",
              "            '<a target=\"_blank\" href=https://colab.research.google.com/notebooks/data_table.ipynb>data table notebook</a>'\n",
              "            + ' to learn more about interactive tables.';\n",
              "          element.innerHTML = '';\n",
              "          dataTable['output_type'] = 'display_data';\n",
              "          await google.colab.output.renderOutput(dataTable, element);\n",
              "          const docLink = document.createElement('div');\n",
              "          docLink.innerHTML = docLinkHtml;\n",
              "          element.appendChild(docLink);\n",
              "        }\n",
              "      </script>\n",
              "    </div>\n",
              "  </div>\n",
              "  "
            ]
          },
          "metadata": {},
          "execution_count": 61
        }
      ]
    },
    {
      "cell_type": "code",
      "metadata": {
        "id": "LPmANWuLlJkl"
      },
      "source": [
        "test.to_csv(\"result.csv\", index=False, mode='w')"
      ],
      "execution_count": null,
      "outputs": []
    },
    {
      "cell_type": "code",
      "metadata": {
        "id": "C-xQHUYilbjR"
      },
      "source": [
        ""
      ],
      "execution_count": null,
      "outputs": []
    },
    {
      "cell_type": "code",
      "source": [
        ""
      ],
      "metadata": {
        "id": "FWUtftkVnKnw"
      },
      "execution_count": null,
      "outputs": []
    }
  ]
}